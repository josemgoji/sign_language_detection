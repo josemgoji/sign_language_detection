{
 "cells": [
  {
   "cell_type": "code",
   "execution_count": 7,
   "id": "615f7813",
   "metadata": {},
   "outputs": [
    {
     "name": "stdout",
     "output_type": "stream",
     "text": [
      "Collecting data for class space\n"
     ]
    }
   ],
   "source": [
    "import os\n",
    "\n",
    "import cv2\n",
    "\n",
    "\n",
    "DATA_DIR = '../data'\n",
    "if not os.path.exists(DATA_DIR):\n",
    "    os.makedirs(DATA_DIR)\n",
    "\n",
    "class_name = 'space'\n",
    "dataset_size = 50\n",
    "\n",
    "cap = cv2.VideoCapture(0)\n",
    "\n",
    "if not os.path.exists(os.path.join(DATA_DIR, class_name)):\n",
    "    os.makedirs(os.path.join(DATA_DIR, class_name))\n",
    "\n",
    "print('Collecting data for class {}'.format(class_name))\n",
    "\n",
    "done = False\n",
    "while True:\n",
    "    ret, frame = cap.read()\n",
    "    cv2.putText(frame, 'Ready? Press \"Q\" ! :)', (100, 50), cv2.FONT_HERSHEY_SIMPLEX, 1.3, (0, 255, 0), 3,\n",
    "                cv2.LINE_AA)\n",
    "    cv2.imshow('frame', frame)\n",
    "    if cv2.waitKey(25) == ord('q'):\n",
    "        break\n",
    "\n",
    "counter = 0\n",
    "while counter < dataset_size:\n",
    "    ret, frame = cap.read()\n",
    "    cv2.imshow('frame', frame)\n",
    "    cv2.waitKey(25)\n",
    "    cv2.imwrite(os.path.join(DATA_DIR, str(class_name), '{}.jpg'.format(counter)), frame)\n",
    "\n",
    "    counter += 1\n",
    "\n",
    "cap.release()\n",
    "cv2.destroyAllWindows()"
   ]
  },
  {
   "cell_type": "code",
   "execution_count": null,
   "id": "ee8a74f7",
   "metadata": {},
   "outputs": [],
   "source": []
  }
 ],
 "metadata": {
  "kernelspec": {
   "display_name": ".venv",
   "language": "python",
   "name": "python3"
  },
  "language_info": {
   "codemirror_mode": {
    "name": "ipython",
    "version": 3
   },
   "file_extension": ".py",
   "mimetype": "text/x-python",
   "name": "python",
   "nbconvert_exporter": "python",
   "pygments_lexer": "ipython3",
   "version": "3.10.11"
  }
 },
 "nbformat": 4,
 "nbformat_minor": 5
}
