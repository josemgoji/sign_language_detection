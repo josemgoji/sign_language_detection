{
 "cells": [
  {
   "cell_type": "code",
   "execution_count": 2,
   "id": "4864fb05",
   "metadata": {},
   "outputs": [],
   "source": [
    "import zipfile\n",
    "import os"
   ]
  },
  {
   "cell_type": "code",
   "execution_count": null,
   "id": "5112b6ef",
   "metadata": {},
   "outputs": [
    {
     "name": "stdout",
     "output_type": "stream",
     "text": [
      "Descomprimido en: ../data_extra\n"
     ]
    }
   ],
   "source": [
    "\n",
    "\n",
    "# Ruta del archivo zip\n",
    "zip_path = '../data_extra/letras_faltantes.zip'  # Cambia esto por el nombre real de tu archivo zip\n",
    "\n",
    "# Carpeta donde está el zip\n",
    "extract_dir = os.path.dirname(zip_path) or '.'\n",
    "\n",
    "# Descomprimir\n",
    "with zipfile.ZipFile(zip_path, 'r') as zip_ref:\n",
    "    zip_ref.extractall(extract_dir)\n",
    "\n",
    "print(f\"Descomprimido en: {extract_dir}\")"
   ]
  },
  {
   "cell_type": "code",
   "execution_count": 3,
   "id": "224a3ce0",
   "metadata": {},
   "outputs": [
    {
     "name": "stdout",
     "output_type": "stream",
     "text": [
      "Letra 0: 250 imágenes\n",
      "Letra 1: 250 imágenes\n",
      "Letra 2: 250 imágenes\n",
      "Letra 3: 250 imágenes\n",
      "Letra 4: 250 imágenes\n",
      "Letra 5: 250 imágenes\n",
      "Letra 6: 250 imágenes\n",
      "Letra 7: 250 imágenes\n",
      "Letra 8: 250 imágenes\n",
      "Letra 9: 250 imágenes\n",
      "Letra space: 272 imágenes\n"
     ]
    }
   ],
   "source": [
    "# Carpeta principal donde están las subcarpetas por letra\n",
    "main_dir = '../data_extra/letras_faltantes'  # Cambia si tu carpeta tiene otro nombre\n",
    "\n",
    "# Recorrer cada subcarpeta y contar imágenes\n",
    "for letra in sorted(os.listdir(main_dir)):\n",
    "    subcarpeta = os.path.join(main_dir, letra)\n",
    "    if not os.path.isdir(subcarpeta):\n",
    "        continue\n",
    "    # Contar solo archivos de imagen (puedes ajustar las extensiones si tienes otros formatos)\n",
    "    imagenes = [f for f in os.listdir(subcarpeta) if f.lower().endswith(('.jpg', '.jpeg', '.png'))]\n",
    "    print(f\"Letra {letra}: {len(imagenes)} imágenes\")"
   ]
  },
  {
   "cell_type": "code",
   "execution_count": 4,
   "id": "e547f6aa",
   "metadata": {},
   "outputs": [
    {
     "name": "stdout",
     "output_type": "stream",
     "text": [
      "Letra 0: 70 imágenes, generando 180 nuevas...\n",
      "Letra 1: 70 imágenes, generando 180 nuevas...\n",
      "Letra 2: 70 imágenes, generando 180 nuevas...\n",
      "Letra 3: 70 imágenes, generando 180 nuevas...\n",
      "Letra 4: 70 imágenes, generando 180 nuevas...\n",
      "Letra 5: 70 imágenes, generando 180 nuevas...\n",
      "Letra 6: 70 imágenes, generando 180 nuevas...\n",
      "Letra 7: 70 imágenes, generando 180 nuevas...\n",
      "Letra 8: 70 imágenes, generando 180 nuevas...\n",
      "Letra 9: 70 imágenes, generando 180 nuevas...\n",
      "¡Data augmentation completado solo con brillo y contraste!\n"
     ]
    }
   ],
   "source": [
    "import os\n",
    "import random\n",
    "from PIL import Image, ImageEnhance\n",
    "\n",
    "main_dir = '../data_extra/letras_faltantes'\n",
    "\n",
    "def augment_image(img):\n",
    "    # Cambios aleatorios de brillo y contraste\n",
    "    if random.random() < 0.5:\n",
    "        enhancer = ImageEnhance.Brightness(img)\n",
    "        factor = random.uniform(0.8, 1.2)  # Cambios suaves\n",
    "        img = enhancer.enhance(factor)\n",
    "    if random.random() < 0.5:\n",
    "        enhancer = ImageEnhance.Contrast(img)\n",
    "        factor = random.uniform(0.8, 1.2)\n",
    "        img = enhancer.enhance(factor)\n",
    "    return img\n",
    "\n",
    "for letra in map(str, range(10)):\n",
    "    subcarpeta = os.path.join(main_dir, letra)\n",
    "    if not os.path.isdir(subcarpeta):\n",
    "        continue\n",
    "    imagenes = [f for f in os.listdir(subcarpeta) if f.lower().endswith(('.jpg', '.jpeg', '.png'))]\n",
    "    n_actual = len(imagenes)\n",
    "    n_faltan = 250 - n_actual\n",
    "    print(f\"Letra {letra}: {n_actual} imágenes, generando {n_faltan} nuevas...\")\n",
    "\n",
    "    if n_faltan > 0:\n",
    "        for i in range(n_faltan):\n",
    "            img_name = random.choice(imagenes)\n",
    "            img_path = os.path.join(subcarpeta, img_name)\n",
    "            img = Image.open(img_path)\n",
    "            img_aug = augment_image(img)\n",
    "            new_name = f\"{os.path.splitext(img_name)[0]}_aug_{i}.jpg\"\n",
    "            img_aug.save(os.path.join(subcarpeta, new_name))\n",
    "\n",
    "print(\"¡Data augmentation completado solo con brillo y contraste!\")"
   ]
  },
  {
   "cell_type": "code",
   "execution_count": 5,
   "id": "ee4fdce3",
   "metadata": {},
   "outputs": [
    {
     "name": "stdout",
     "output_type": "stream",
     "text": [
      "Copiada: 0 -> ../data_recolor\n",
      "Copiada: 1 -> ../data_recolor\n",
      "Copiada: 2 -> ../data_recolor\n",
      "Copiada: 3 -> ../data_recolor\n",
      "Copiada: 4 -> ../data_recolor\n",
      "Copiada: 5 -> ../data_recolor\n",
      "Copiada: 6 -> ../data_recolor\n",
      "Copiada: 7 -> ../data_recolor\n",
      "Copiada: 8 -> ../data_recolor\n",
      "Copiada: 9 -> ../data_recolor\n",
      "Copiada: space -> ../data_recolor\n"
     ]
    }
   ],
   "source": [
    "import shutil\n",
    "import os\n",
    "\n",
    "# Ruta de origen (donde están las subcarpetas)\n",
    "origen = '../data_extra/letras_faltantes'\n",
    "\n",
    "# Ruta de destino\n",
    "destino = '../data_recolor'\n",
    "\n",
    "# Crear la carpeta destino si no existe\n",
    "os.makedirs(destino, exist_ok=True)\n",
    "\n",
    "# Listar solo carpetas en la ruta de origen\n",
    "for nombre in os.listdir(origen):\n",
    "    ruta_completa = os.path.join(origen, nombre)\n",
    "    destino_carpeta = os.path.join(destino, nombre)\n",
    "    if os.path.isdir(ruta_completa) and nombre != 'data':\n",
    "        # Copiar la carpeta solo si no existe en destino\n",
    "        if not os.path.exists(destino_carpeta):\n",
    "            shutil.copytree(ruta_completa, destino_carpeta)\n",
    "            print(f'Copiada: {nombre} -> {destino}')\n",
    "        else:\n",
    "            print(f'Ya existe: {destino_carpeta}')"
   ]
  },
  {
   "cell_type": "code",
   "execution_count": null,
   "id": "6c0e8271",
   "metadata": {},
   "outputs": [],
   "source": []
  }
 ],
 "metadata": {
  "kernelspec": {
   "display_name": ".venv",
   "language": "python",
   "name": "python3"
  },
  "language_info": {
   "codemirror_mode": {
    "name": "ipython",
    "version": 3
   },
   "file_extension": ".py",
   "mimetype": "text/x-python",
   "name": "python",
   "nbconvert_exporter": "python",
   "pygments_lexer": "ipython3",
   "version": "3.10.11"
  }
 },
 "nbformat": 4,
 "nbformat_minor": 5
}
