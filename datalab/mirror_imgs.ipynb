{
 "cells": [
  {
   "cell_type": "markdown",
   "id": "9f3f5546",
   "metadata": {},
   "source": [
    "paar generar el espejo que seria la mano izquierda"
   ]
  },
  {
   "cell_type": "code",
   "execution_count": 1,
   "id": "500d2786",
   "metadata": {},
   "outputs": [],
   "source": [
    "import os\n",
    "from PIL import Image\n",
    "from shutil import copy2\n",
    "\n",
    "# Carpeta de entrada y salida\n",
    "input_dir = '../data_recolor'  \n",
    "output_dir = '../data_aumt'\n",
    "\n",
    "# Crear la carpeta de salida si no existe\n",
    "os.makedirs(output_dir, exist_ok=True)\n",
    "\n",
    "# Recorrer todas las subcarpetas (por letra)\n",
    "for letra in os.listdir(input_dir):\n",
    "    subcarpeta_in = os.path.join(input_dir, letra)\n",
    "    subcarpeta_out = os.path.join(output_dir, letra)\n",
    "    if not os.path.isdir(subcarpeta_in):\n",
    "        continue\n",
    "    os.makedirs(subcarpeta_out, exist_ok=True)\n",
    "\n",
    "    # Recorrer todas las imágenes en la subcarpeta\n",
    "    for nombre_img in os.listdir(subcarpeta_in):\n",
    "        ruta_img = os.path.join(subcarpeta_in, nombre_img)\n",
    "        if not os.path.isfile(ruta_img):\n",
    "            continue\n",
    "\n",
    "        # Copiar la imagen original\n",
    "        copy2(ruta_img, os.path.join(subcarpeta_out, nombre_img))\n",
    "\n",
    "        # Crear y guardar la imagen espejo\n",
    "        try:\n",
    "            img = Image.open(ruta_img)\n",
    "            img_mirror = img.transpose(Image.FLIP_LEFT_RIGHT)\n",
    "            nombre_base, ext = os.path.splitext(nombre_img)\n",
    "            nombre_mirror = f\"{nombre_base}_mirror{ext}\"\n",
    "            img_mirror.save(os.path.join(subcarpeta_out, nombre_mirror))\n",
    "        except Exception as e:\n",
    "            print(f\"Error procesando {ruta_img}: {e}\")"
   ]
  },
  {
   "cell_type": "code",
   "execution_count": null,
   "id": "07e80284",
   "metadata": {},
   "outputs": [],
   "source": []
  }
 ],
 "metadata": {
  "kernelspec": {
   "display_name": ".venv",
   "language": "python",
   "name": "python3"
  },
  "language_info": {
   "codemirror_mode": {
    "name": "ipython",
    "version": 3
   },
   "file_extension": ".py",
   "mimetype": "text/x-python",
   "name": "python",
   "nbconvert_exporter": "python",
   "pygments_lexer": "ipython3",
   "version": "3.10.11"
  }
 },
 "nbformat": 4,
 "nbformat_minor": 5
}
