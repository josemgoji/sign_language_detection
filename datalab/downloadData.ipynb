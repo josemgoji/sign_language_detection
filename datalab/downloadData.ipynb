{
 "cells": [
  {
   "cell_type": "code",
   "execution_count": 2,
   "id": "9cfd5473",
   "metadata": {},
   "outputs": [],
   "source": [
    "import kagglehub\n",
    "import shutil\n",
    "import os\n",
    "\n",
    "path = kagglehub.dataset_download(\"danielrey96/colombian-sign-language-lsc-alphabet\")\n",
    "\n",
    "DATA_DIR = '../data'\n",
    "if not os.path.exists(DATA_DIR):\n",
    "    os.makedirs(DATA_DIR)\n",
    "os.makedirs(DATA_DIR, exist_ok=True)\n",
    "\n",
    "todas_path = os.path.join(path, \"Todas\")\n",
    "\n",
    "for item in os.listdir(todas_path):\n",
    "    origen = os.path.join(todas_path, item)\n",
    "    destino_final = os.path.join(DATA_DIR, item)\n",
    "    shutil.move(origen, destino_final)\n",
    "\n",
    "os.rmdir(todas_path)"
   ]
  },
  {
   "cell_type": "code",
   "execution_count": null,
   "id": "da47bd2e",
   "metadata": {},
   "outputs": [],
   "source": []
  }
 ],
 "metadata": {
  "kernelspec": {
   "display_name": ".venv",
   "language": "python",
   "name": "python3"
  },
  "language_info": {
   "codemirror_mode": {
    "name": "ipython",
    "version": 3
   },
   "file_extension": ".py",
   "mimetype": "text/x-python",
   "name": "python",
   "nbconvert_exporter": "python",
   "pygments_lexer": "ipython3",
   "version": "3.10.11"
  }
 },
 "nbformat": 4,
 "nbformat_minor": 5
}
